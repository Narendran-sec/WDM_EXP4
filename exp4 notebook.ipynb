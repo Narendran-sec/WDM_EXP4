{
 "cells": [
  {
   "cell_type": "code",
   "execution_count": 1,
   "id": "16aade8e",
   "metadata": {},
   "outputs": [],
   "source": [
    "import pandas as pd"
   ]
  },
  {
   "cell_type": "code",
   "execution_count": 2,
   "id": "dc56d0fe",
   "metadata": {},
   "outputs": [
    {
     "data": {
      "text/html": [
       "<div>\n",
       "<style scoped>\n",
       "    .dataframe tbody tr th:only-of-type {\n",
       "        vertical-align: middle;\n",
       "    }\n",
       "\n",
       "    .dataframe tbody tr th {\n",
       "        vertical-align: top;\n",
       "    }\n",
       "\n",
       "    .dataframe thead th {\n",
       "        text-align: right;\n",
       "    }\n",
       "</style>\n",
       "<table border=\"1\" class=\"dataframe\">\n",
       "  <thead>\n",
       "    <tr style=\"text-align: right;\">\n",
       "      <th></th>\n",
       "      <th>User_ID</th>\n",
       "      <th>Age</th>\n",
       "      <th>Gender</th>\n",
       "      <th>Location</th>\n",
       "    </tr>\n",
       "  </thead>\n",
       "  <tbody>\n",
       "    <tr>\n",
       "      <th>0</th>\n",
       "      <td>1</td>\n",
       "      <td>25</td>\n",
       "      <td>Female</td>\n",
       "      <td>New York</td>\n",
       "    </tr>\n",
       "    <tr>\n",
       "      <th>1</th>\n",
       "      <td>2</td>\n",
       "      <td>40</td>\n",
       "      <td>Male</td>\n",
       "      <td>Los Angeles</td>\n",
       "    </tr>\n",
       "    <tr>\n",
       "      <th>2</th>\n",
       "      <td>3</td>\n",
       "      <td>22</td>\n",
       "      <td>Male</td>\n",
       "      <td>Chicago</td>\n",
       "    </tr>\n",
       "    <tr>\n",
       "      <th>3</th>\n",
       "      <td>4</td>\n",
       "      <td>55</td>\n",
       "      <td>Female</td>\n",
       "      <td>Houston</td>\n",
       "    </tr>\n",
       "    <tr>\n",
       "      <th>4</th>\n",
       "      <td>5</td>\n",
       "      <td>30</td>\n",
       "      <td>Male</td>\n",
       "      <td>Miami</td>\n",
       "    </tr>\n",
       "  </tbody>\n",
       "</table>\n",
       "</div>"
      ],
      "text/plain": [
       "   User_ID  Age  Gender     Location\n",
       "0        1   25  Female     New York\n",
       "1        2   40    Male  Los Angeles\n",
       "2        3   22    Male      Chicago\n",
       "3        4   55  Female      Houston\n",
       "4        5   30    Male        Miami"
      ]
     },
     "execution_count": 2,
     "metadata": {},
     "output_type": "execute_result"
    }
   ],
   "source": [
    "df=pd.read_csv(\"C:\\\\Users\\\\admin\\\\Downloads\\\\clustervisitor.csv\")\n",
    "df.head()"
   ]
  },
  {
   "cell_type": "code",
   "execution_count": 5,
   "id": "a987269a",
   "metadata": {},
   "outputs": [],
   "source": [
    "cluster={\"young\":(df['Age']<=30),\"Middle\":((df['Age']>30)&(df['Age']<=60)),\"Old\":(df['Age']>50)}"
   ]
  },
  {
   "cell_type": "code",
   "execution_count": 6,
   "id": "028bd07a",
   "metadata": {},
   "outputs": [
    {
     "data": {
      "text/plain": [
       "{'young': 0      True\n",
       " 1     False\n",
       " 2      True\n",
       " 3     False\n",
       " 4      True\n",
       " 5     False\n",
       " 6      True\n",
       " 7     False\n",
       " 8     False\n",
       " 9     False\n",
       " 10    False\n",
       " 11     True\n",
       " 12    False\n",
       " 13    False\n",
       " 14     True\n",
       " 15    False\n",
       " 16    False\n",
       " 17     True\n",
       " 18    False\n",
       " 19    False\n",
       " 20    False\n",
       " 21    False\n",
       " 22    False\n",
       " 23    False\n",
       " 24    False\n",
       " 25    False\n",
       " 26    False\n",
       " 27     True\n",
       " 28    False\n",
       " 29    False\n",
       " Name: Age, dtype: bool,\n",
       " 'Middle': 0     False\n",
       " 1      True\n",
       " 2     False\n",
       " 3      True\n",
       " 4     False\n",
       " 5      True\n",
       " 6     False\n",
       " 7      True\n",
       " 8      True\n",
       " 9      True\n",
       " 10     True\n",
       " 11    False\n",
       " 12     True\n",
       " 13     True\n",
       " 14    False\n",
       " 15     True\n",
       " 16     True\n",
       " 17    False\n",
       " 18     True\n",
       " 19     True\n",
       " 20     True\n",
       " 21     True\n",
       " 22     True\n",
       " 23     True\n",
       " 24     True\n",
       " 25     True\n",
       " 26     True\n",
       " 27    False\n",
       " 28     True\n",
       " 29     True\n",
       " Name: Age, dtype: bool,\n",
       " 'Old': 0     False\n",
       " 1     False\n",
       " 2     False\n",
       " 3      True\n",
       " 4     False\n",
       " 5     False\n",
       " 6     False\n",
       " 7     False\n",
       " 8     False\n",
       " 9     False\n",
       " 10    False\n",
       " 11    False\n",
       " 12    False\n",
       " 13    False\n",
       " 14    False\n",
       " 15    False\n",
       " 16     True\n",
       " 17    False\n",
       " 18    False\n",
       " 19    False\n",
       " 20    False\n",
       " 21    False\n",
       " 22    False\n",
       " 23    False\n",
       " 24    False\n",
       " 25    False\n",
       " 26    False\n",
       " 27    False\n",
       " 28    False\n",
       " 29    False\n",
       " Name: Age, dtype: bool}"
      ]
     },
     "execution_count": 6,
     "metadata": {},
     "output_type": "execute_result"
    }
   ],
   "source": [
    "cluster"
   ]
  },
  {
   "cell_type": "code",
   "execution_count": 8,
   "id": "55bc44da",
   "metadata": {},
   "outputs": [
    {
     "name": "stdout",
     "output_type": "stream",
     "text": [
      "Visitors in young group\n",
      "    User_ID  Age  Gender      Location\n",
      "0         1   25  Female      New York\n",
      "2         3   22    Male       Chicago\n",
      "4         5   30    Male         Miami\n",
      "6         7   28  Female        Boston\n",
      "11       12   27    Male        Austin\n",
      "14       15   29  Female  Philadelphia\n",
      "17       18   26    Male   Minneapolis\n",
      "27       28   24  Female    Sacramento\n",
      "[8]\n",
      "Visitors in Middle group\n",
      "    User_ID  Age  Gender         Location\n",
      "1         2   40    Male      Los Angeles\n",
      "3         4   55  Female          Houston\n",
      "5         6   45  Female    San Francisco\n",
      "7         8   50    Male          Seattle\n",
      "8         9   35    Male           Dallas\n",
      "9        10   48  Female          Atlanta\n",
      "10       11   33  Female  Washington D.C.\n",
      "12       13   38    Male           Denver\n",
      "13       14   42  Female          Phoenix\n",
      "15       16   36    Male         Portland\n",
      "16       17   51  Female          Detroit\n",
      "18       19   31  Female        Charlotte\n",
      "19       20   47    Male        San Diego\n",
      "20       21   34    Male         San Jose\n",
      "21       22   39  Female     Indianapolis\n",
      "22       23   43    Male        Las Vegas\n",
      "23       24   32  Female          Orlando\n",
      "24       25   37    Male            Tampa\n",
      "25       26   44  Female        St. Louis\n",
      "26       27   49    Male      Kansas City\n",
      "28       29   41    Male        Cleveland\n",
      "29       30   46  Female       Pittsburgh\n",
      "[8, 22]\n",
      "Visitors in Old group\n",
      "    User_ID  Age  Gender Location\n",
      "3         4   55  Female  Houston\n",
      "16       17   51  Female  Detroit\n",
      "[8, 22, 2]\n"
     ]
    }
   ],
   "source": [
    "count=[]\n",
    "for g,c in cluster.items():\n",
    "    visitor=df[c]\n",
    "    count.append(len(visitor))\n",
    "    print(f\"Visitors in {g} group\")\n",
    "    print(visitor)\n",
    "    print(count)"
   ]
  },
  {
   "cell_type": "code",
   "execution_count": 25,
   "id": "b045ba14",
   "metadata": {},
   "outputs": [
    {
     "data": {
      "image/png": "[encoded data removed]",
      "text/plain": [
       "<Figure size 640x480 with 1 Axes>"
      ]
     },
     "metadata": {},
     "output_type": "display_data"
    }
   ],
   "source": [
    "plt.bar(cluster.keys(),count,data=df)\n",
    "plt.xlabel('Age Group')\n",
    "plt.show()"
   ]
  },
  {
   "cell_type": "code",
   "execution_count": 18,
   "id": "72c2cd92",
   "metadata": {},
   "outputs": [],
   "source": [
    "from sklearn.cluster import KMeans\n",
    "import matplotlib.pyplot as plt"
   ]
  },
  {
   "cell_type": "code",
   "execution_count": 29,
   "id": "4c05ed84",
   "metadata": {},
   "outputs": [
    {
     "name": "stderr",
     "output_type": "stream",
     "text": [
      "C:\\ProgramData\\anaconda3\\Lib\\site-packages\\sklearn\\cluster\\_kmeans.py:870: FutureWarning: The default value of `n_init` will change from 10 to 'auto' in 1.4. Set the value of `n_init` explicitly to suppress the warning\n",
      "  warnings.warn(\n",
      "C:\\ProgramData\\anaconda3\\Lib\\site-packages\\sklearn\\cluster\\_kmeans.py:1382: UserWarning: KMeans is known to have a memory leak on Windows with MKL, when there are less chunks than available threads. You can avoid it by setting the environment variable OMP_NUM_THREADS=1.\n",
      "  warnings.warn(\n"
     ]
    },
    {
     "name": "stdout",
     "output_type": "stream",
     "text": [
      "    User_ID  Age  Gender         Location  Cluster\n",
      "0         1   25  Female         New York        1\n",
      "1         2   40    Male      Los Angeles        2\n",
      "2         3   22    Male          Chicago        1\n",
      "3         4   55  Female          Houston        0\n",
      "4         5   30    Male            Miami        1\n",
      "5         6   45  Female    San Francisco        0\n",
      "6         7   28  Female           Boston        1\n",
      "7         8   50    Male          Seattle        0\n",
      "8         9   35    Male           Dallas        2\n",
      "9        10   48  Female          Atlanta        0\n",
      "10       11   33  Female  Washington D.C.        2\n",
      "11       12   27    Male           Austin        1\n",
      "12       13   38    Male           Denver        2\n",
      "13       14   42  Female          Phoenix        2\n",
      "14       15   29  Female     Philadelphia        1\n",
      "15       16   36    Male         Portland        2\n",
      "16       17   51  Female          Detroit        0\n",
      "17       18   26    Male      Minneapolis        1\n",
      "18       19   31  Female        Charlotte        1\n",
      "19       20   47    Male        San Diego        0\n",
      "20       21   34    Male         San Jose        2\n",
      "21       22   39  Female     Indianapolis        2\n",
      "22       23   43    Male        Las Vegas        0\n",
      "23       24   32  Female          Orlando        1\n",
      "24       25   37    Male            Tampa        2\n",
      "25       26   44  Female        St. Louis        0\n",
      "26       27   49    Male      Kansas City        0\n",
      "27       28   24  Female       Sacramento        1\n",
      "28       29   41    Male        Cleveland        2\n",
      "29       30   46  Female       Pittsburgh        0\n"
     ]
    },
    {
     "data": {
      "image/png": "[encoded data removed]",
      "text/plain": [
       "<Figure size 640x480 with 1 Axes>"
      ]
     },
     "metadata": {},
     "output_type": "display_data"
    }
   ],
   "source": [
    "kmeans = KMeans(n_clusters=3, random_state=42)\n",
    "df['Cluster'] = kmeans.fit_predict(df[['Age']])\n",
    "print(df)\n",
    "plt.scatter(df['User_ID'], df['Age'], c=df['Cluster'])\n",
    "plt.xlabel('User_ID')\n",
    "plt.ylabel('Age')\n",
    "plt.title('K-Means')\n",
    "plt.show()"
   ]
  },
  {
   "cell_type": "code",
   "execution_count": null,
   "id": "e1c7a920",
   "metadata": {},
   "outputs": [],
   "source": []
  }
 ],
 "metadata": {
  "kernelspec": {
   "display_name": "Python 3 (ipykernel)",
   "language": "python",
   "name": "python3"
  },
  "language_info": {
   "codemirror_mode": {
    "name": "ipython",
    "version": 3
   },
   "file_extension": ".py",
   "mimetype": "text/x-python",
   "name": "python",
   "nbconvert_exporter": "python",
   "pygments_lexer": "ipython3",
   "version": "3.11.3"
  }
 },
 "nbformat": 4,
 "nbformat_minor": 5
}
